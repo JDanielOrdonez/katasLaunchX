{
 "cells": [
  {
   "cell_type": "markdown",
   "metadata": {},
   "source": [
    "# Ejercicio: Uso de funciones en Python\n",
    "## Ejercicio 1: Trabajar con argumentos en funciones"
   ]
  },
  {
   "cell_type": "code",
   "execution_count": 16,
   "metadata": {},
   "outputs": [
    {
     "name": "stdout",
     "output_type": "stream",
     "text": [
      "Fuel report:\n",
      "    Upper tank contains: 200 l\n",
      "    External tank contains: 120 l\n",
      "    Hydrogen_tank contains: 400 l\n",
      "    Average total: 240.0 \n",
      "\n",
      "None\n",
      "Average:  240.0 \n",
      "\n",
      "Fuel report:\n",
      "    Upper tank contains: 200 l\n",
      "    External tank contains: 120 l\n",
      "    Hydrogen_tank contains: 400 l\n",
      "    Average total: 240.0 l\n",
      "\n",
      "None\n"
     ]
    }
   ],
   "source": [
    "# Función para leer 3 tanques de combustible y muestre el promedio\n",
    "def fuel_report(external_tank, upper_tank, hydrogen_tank):\n",
    "    \n",
    "    #Average\n",
    "    average_total = (external_tank + upper_tank + hydrogen_tank)/3\n",
    "    \n",
    "    #Report\n",
    "    return print(\"\"\"Fuel report:\n",
    "    Upper tank contains: {0} l\n",
    "    External tank contains: {1} l\n",
    "    Hydrogen_tank contains: {2} l\n",
    "    Average total: {3} \\n\"\"\".format(upper_tank, external_tank, hydrogen_tank, average_total))\n",
    "    \n",
    "# Llamamos a la función que genera el reporte print(funcion(tanque1, tanque2, tanque3))\n",
    "print(fuel_report(120,200,400))\n",
    "\n",
    "# Función promedio\n",
    "def average(all_tanks):\n",
    "    \n",
    "    total_averages = sum(all_tanks)#Sumas todos los valores de combustible disponible\n",
    "    lenAlltanks = len(all_tanks)   #Obtener el numero total de tanques que se analizan\n",
    "\n",
    "    return total_averages / lenAlltanks #dividir todo el conbustible disponible entre cuantos tanques hay, para obtener el promedio\n",
    "print('Average: ', average([120,200,400]), '\\n')\n",
    "\n",
    "\n",
    "\n",
    "# Actualizar la función\n",
    "def report(external_tank, upper_tank, hydrogen_tank):\n",
    "    \n",
    "    #Average\n",
    "    #Report\n",
    "    return print(\"\"\"Fuel report:\n",
    "    Upper tank contains: {0} l\n",
    "    External tank contains: {1} l\n",
    "    Hydrogen_tank contains: {2} l\n",
    "    Average total: {3} l\\n\"\"\".format(\n",
    "        upper_tank, \n",
    "        external_tank, \n",
    "        hydrogen_tank,\n",
    "        \n",
    "        #Esta función ya esta dentro de una pero aun asi la llamamos y le agregamos los mismos argumentos que a la función padre\n",
    "        #para que realize los calculos ya que ambos usan los mismos argumentos\n",
    "        average([external_tank, upper_tank, hydrogen_tank])    \n",
    "    ))\n",
    "\n",
    "print(report(120, 200, 400))"
   ]
  },
  {
   "cell_type": "markdown",
   "metadata": {},
   "source": [
    "# Ejercicio 2: Trabajo con argumentos de palabra clave\n",
    "## Ejercicio : Trabajar con argumentos de palabras clave en funciones"
   ]
  },
  {
   "cell_type": "code",
   "execution_count": 29,
   "metadata": {},
   "outputs": [
    {
     "name": "stdout",
     "output_type": "stream",
     "text": [
      "Hora de prelanzamiento: 8\n",
      "        Tiempo de vuelo: 108 minutos\n",
      "        Destino: Marte\n",
      "        Total de combustible 1410324 galones\n",
      "None \n",
      "\n",
      "\n",
      "        Destino: Marte\n",
      "        Tiempo total de viaje: 115\n",
      "        Total de gasolina: 510324 \n",
      "\n",
      "\n",
      "        Destino: Marte\n",
      "        Tiempo total de viaje: 115\n",
      "        Total de gasolina: 510324 \n",
      "El tanque Superior contiene 500124 galones de gasolina \n",
      "El tanque inferior contiene 10200 galones de gasolina \n",
      " \n",
      "\n"
     ]
    }
   ],
   "source": [
    "# Función con un informe preciso de la misión. Considera hora de prelanzamiento, tiempo de vuelo, destino, tanque externo y tanque interno\n",
    "def info_rocket(prelaunch_time, flight_time, destination, oxygentank, internal_tank):\n",
    "    return print(\n",
    "        \"\"\"Hora de prelanzamiento: {0}\n",
    "        Tiempo de vuelo: {1} minutos\n",
    "        Destino: {2}\n",
    "        Total de combustible {3} galones\"\"\".format(\n",
    "            prelaunch_time, \n",
    "            prelaunch_time + flight_time, \n",
    "            destination, \n",
    "            oxygentank + internal_tank)\n",
    "    )\n",
    "print(info_rocket(8, 100, \"Marte\", 500124, 910200),\"\\n\")\n",
    "\n",
    "\n",
    "# Escribe tu nueva función de reporte considerando lo anterior\n",
    "def report_mission(destination, *minutes, **fuel_reservoirs):\n",
    "    return \"\"\"\n",
    "        Destino: {0}\n",
    "        Tiempo total de viaje: {1}\n",
    "        Total de gasolina: {2}\"\"\".format(\n",
    "            destination, \n",
    "            sum(minutes), \n",
    "            sum(fuel_reservoirs.values()))\n",
    "print(report_mission(\"Marte\", 15, 40, 60, Superior=500124, inferior=10200), \"\\n\")\n",
    "\n",
    "\n",
    "# Escribe tu nueva función\n",
    "def report_mission(destination, *minutes, **fuel_reservoirs):\n",
    "    report = \"\"\"\n",
    "        Destino: {0}\n",
    "        Tiempo total de viaje: {1}\n",
    "        Total de gasolina: {2} \\n\"\"\".format(\n",
    "            destination, \n",
    "            sum(minutes), \n",
    "            sum(fuel_reservoirs.values()))\n",
    "    for tank, gallons in fuel_reservoirs.items():\n",
    "        report += 'El tanque {0} contiene {1} galones de gasolina \\n'.format(tank, gallons)\n",
    "    return report\n",
    "\n",
    "print(report_mission(\"Marte\", 15, 40, 60, Superior=500124, inferior=10200), \"\\n\")"
   ]
  }
 ],
 "metadata": {
  "interpreter": {
   "hash": "ac59ebe37160ed0dfa835113d9b8498d9f09ceb179beaac4002f036b9467c963"
  },
  "kernelspec": {
   "display_name": "Python 3.9.0 64-bit",
   "name": "python3"
  },
  "language_info": {
   "codemirror_mode": {
    "name": "ipython",
    "version": 3
   },
   "file_extension": ".py",
   "mimetype": "text/x-python",
   "name": "python",
   "nbconvert_exporter": "python",
   "pygments_lexer": "ipython3",
   "version": "3.9.0"
  },
  "orig_nbformat": 4
 },
 "nbformat": 4,
 "nbformat_minor": 2
}
