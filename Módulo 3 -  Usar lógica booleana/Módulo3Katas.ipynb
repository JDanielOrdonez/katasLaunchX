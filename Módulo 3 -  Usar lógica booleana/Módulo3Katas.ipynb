{
 "cells": [
  {
   "cell_type": "markdown",
   "metadata": {},
   "source": [
    "# Ejercicio 1\n",
    "\n",
    "## Un asteroide se acerca, y viaja a una velocidad de 49 km/s.\n",
    "\n",
    "### *Añadir el código necesario para crear una variable que guarde la velocidad del asteroide.\n",
    "### *Escribe una expresión de prueba para calcular si necesita una advertencia.\n",
    "### *Agregue las instrucciones que se ejecutarán si la expresión de prueba es true o false."
   ]
  },
  {
   "cell_type": "code",
   "execution_count": 29,
   "metadata": {},
   "outputs": [
    {
     "name": "stdout",
     "output_type": "stream",
     "text": [
      "Advertencia!!! Un asteroide peligroso se aproxima a una velocidad de 49 km/s a la tierra\n"
     ]
    }
   ],
   "source": [
    "vAsteroide = 49\n",
    "vMinima = 25\n",
    "\n",
    "if vAsteroide > vMinima:\n",
    "    print(\"Advertencia!!! Un asteroide peligroso se aproxima a una velocidad de \" + str(vAsteroide) + \" km/s a la tierra\")\n",
    "else:\n",
    "    print(\"Un asteroide no peligroso se acerca a la tierra\")"
   ]
  },
  {
   "cell_type": "markdown",
   "metadata": {},
   "source": [
    "# Ejercicio 2\n",
    " \n",
    "## *Agrega el código para crear una variable para un asteroide que viaja a 19 km/s\n",
    "## *Escribe varias expresiones de prueba para determinar si puedes ver el rayo de luz desde la tierra\n",
    "## *Agrega las instrucciones que se ejecutarán si las expresiones de prueba son True o False"
   ]
  },
  {
   "cell_type": "code",
   "execution_count": 30,
   "metadata": {},
   "outputs": [
    {
     "name": "stdout",
     "output_type": "stream",
     "text": [
      "Aviso!!! un asteroide no peligroso producirá un rayo de luz en el cielo\n"
     ]
    }
   ],
   "source": [
    "vAsteroide = 22\n",
    "\n",
    "vMinima = 25\n",
    "asteroideAmigable = 19\n",
    "\n",
    "\n",
    "if vAsteroide >= vMinima:\n",
    "    print(\"Advertencia!!! Un asteroide peligroso se aproxima a una velocidad de \" + str(vAsteroide) + \" km/s a la tierra\")\n",
    "elif vAsteroide >= 20 and vAsteroide < vMinima:\n",
    "    print(\"Aviso!!! un asteroide no peligroso producirá un rayo de luz en el cielo\")\n",
    "elif vAsteroide == asteroideAmigable:\n",
    "    print(\"Un asteroide amigable de \" + str(asteroideAmigable) + \" km/s se desintegrará en el cielo\")\n",
    "else:\n",
    "    print(\"Un asteroide menor a \" + str(asteroideAmigable) + \" k/s se desintegrará en el cielo\")"
   ]
  },
  {
   "cell_type": "markdown",
   "metadata": {},
   "source": [
    "# Ejercicio 3\n",
    "## *Agrega el código para crear nuevas variables para la velocidad y el tamaño del asteroide\n",
    "## *Para probar el código, prueba con varias velocidades y tamaños\n",
    "## *Escribe varias expresiones de prueba o combinaciones de expresiones de prueba para determinar qué mensaje se debe enviar a Tierra."
   ]
  },
  {
   "cell_type": "code",
   "execution_count": 44,
   "metadata": {},
   "outputs": [
    {
     "name": "stdout",
     "output_type": "stream",
     "text": [
      "Un asteroide menor a 19 k/s se desintegrará en el cielo\n"
     ]
    }
   ],
   "source": [
    "vAsteroide = 17 #Velocidad del asteroide\n",
    "dAsteroide = 26 #Dimención del asteroide\n",
    "\n",
    "vMinima = 25\n",
    "asteroideAmigable = 19\n",
    "\n",
    "\n",
    "if vAsteroide >= vMinima: \n",
    "    if dAsteroide <= 25:  \n",
    "        print(\"Un asteroide de \" + str(dAsteroide) + \" metros de diametro y una velocidad de \" + str(vAsteroide) + \" km/s se desintegrará al entrar a la atmosfera\")\n",
    "    else:   \n",
    "        print(\"Advertencia!!! Un asteroide peligroso de \" + str(dAsteroide) + \" metros de diametro se aproxima a una velocidad de \" + str(vAsteroide) + \" km/s a la tierra\")\n",
    "\n",
    "elif vAsteroide >= 20 and vAsteroide < vMinima:\n",
    "    if dAsteroide <= 25:\n",
    "        print(\"Un asteroide de \" + str(dAsteroide) + \" metros de diametro y una velocidad de \" + str(vAsteroide) + \" km/s producirá un rayo de luz en el cielo\")\n",
    "    else:\n",
    "        print(\"Advertencia!!! Un asteroide de \" + str(dAsteroide) + \" metros de diametro se aproxima a una velocidad de \" + str(vAsteroide) + \" km/s a la tierra\")    \n",
    "elif vAsteroide == asteroideAmigable:\n",
    "    print(\"Un asteroide amigable de \" + str(asteroideAmigable) + \" km/s se desintegrará en el cielo xd\")\n",
    "else:\n",
    "    print(\"Un asteroide menor a \" + str(asteroideAmigable) + \" k/s se desintegrará en el cielo XD\")"
   ]
  }
 ],
 "metadata": {
  "interpreter": {
   "hash": "ac59ebe37160ed0dfa835113d9b8498d9f09ceb179beaac4002f036b9467c963"
  },
  "kernelspec": {
   "display_name": "Python 3.9.0 64-bit",
   "name": "python3"
  },
  "language_info": {
   "codemirror_mode": {
    "name": "ipython",
    "version": 3
   },
   "file_extension": ".py",
   "mimetype": "text/x-python",
   "name": "python",
   "nbconvert_exporter": "python",
   "pygments_lexer": "ipython3",
   "version": "3.9.0"
  },
  "orig_nbformat": 4
 },
 "nbformat": 4,
 "nbformat_minor": 2
}
