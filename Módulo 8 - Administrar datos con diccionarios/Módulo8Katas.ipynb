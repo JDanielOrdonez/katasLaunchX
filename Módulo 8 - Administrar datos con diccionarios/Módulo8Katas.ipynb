{
 "cells": [
  {
   "cell_type": "markdown",
   "metadata": {},
   "source": [
    "# Ejercicio 1: Creación de diccionarios de Python\n",
    "## Ejercicio: Crear y modificar un diccionario de Python"
   ]
  },
  {
   "cell_type": "code",
   "execution_count": 36,
   "metadata": {},
   "outputs": [
    {
     "name": "stdout",
     "output_type": "stream",
     "text": [
      "The planet Mars has 2 moons\n",
      "The planet Mars has 2 moons and its polar circumference is 6572 km\n"
     ]
    }
   ],
   "source": [
    "# Crea un diccionario llamado planet con los datos propuestos\n",
    "planet = {\n",
    "    'name': 'Mars',\n",
    "    'moons': 2    \n",
    "}\n",
    "\n",
    "# Muestra el nombre del planeta y el número de lunas que tiene.\n",
    "print('The planet {0} has {1} moons'.format(planet.get('name'), planet.get('moons')))\n",
    "\n",
    "# Agrega la clave circunferencia con los datos proporcionados previamente\n",
    "planet.update(\n",
    "    circumference={\n",
    "        'polar': 6572,\n",
    "        'equatorial':6792\n",
    "    }\n",
    ")\n",
    "\n",
    "# Imprime el nombre del planeta con su circunferencia polar.\n",
    "print('The planet {0} has {1} moons and its polar circumference is {2} km'\n",
    "      .format(\n",
    "          planet.get('name'), \n",
    "          planet.get('moons'), \n",
    "          planet['circumference']['polar'])\n",
    "      )"
   ]
  },
  {
   "cell_type": "markdown",
   "metadata": {},
   "source": [
    "# Ejercicio 2: Programación dinámica con diccionarios\n",
    "## Ejercicio: Cálculo de valores"
   ]
  },
  {
   "cell_type": "code",
   "execution_count": 35,
   "metadata": {},
   "outputs": [
    {
     "name": "stdout",
     "output_type": "stream",
     "text": [
      "The solar system has 214 moons\n",
      "The solar system has 18 moons on average\n"
     ]
    }
   ],
   "source": [
    "# En este escenario, calcularás tanto el número total de lunas en el sistema solar como el número promedio de lunas que tiene un planeta.\n",
    "\n",
    "# Planets and moons\n",
    "planet_moons = {\n",
    "    'mercury': 0,\n",
    "    'venus': 0,\n",
    "    'earth': 1,\n",
    "    'mars': 2,\n",
    "    'jupiter': 79,\n",
    "    'saturn': 82,\n",
    "    'uranus': 27,\n",
    "    'neptune': 14,\n",
    "    'pluto': 5,\n",
    "    'haumea': 2,\n",
    "    'makemake': 1,\n",
    "    'eris': 1\n",
    "}\n",
    "\n",
    "moons = 0\n",
    "planet = len(planet_moons)\n",
    "\n",
    "# Añade el código para determinar el número de lunas.\n",
    "for key in planet_moons.keys():\n",
    "    moons = moons + planet_moons[key]\n",
    "    \n",
    "prom_moons = moons / planet    \n",
    "\n",
    "print('The solar system has {0} moons'.format(moons))    \n",
    "print('The solar system has {0} moons on average'.format(round(prom_moons)))  "
   ]
  }
 ],
 "metadata": {
  "interpreter": {
   "hash": "ac59ebe37160ed0dfa835113d9b8498d9f09ceb179beaac4002f036b9467c963"
  },
  "kernelspec": {
   "display_name": "Python 3.9.0 64-bit",
   "name": "python3"
  },
  "language_info": {
   "codemirror_mode": {
    "name": "ipython",
    "version": 3
   },
   "file_extension": ".py",
   "mimetype": "text/x-python",
   "name": "python",
   "nbconvert_exporter": "python",
   "pygments_lexer": "ipython3",
   "version": "3.9.0"
  },
  "orig_nbformat": 4
 },
 "nbformat": 4,
 "nbformat_minor": 2
}
