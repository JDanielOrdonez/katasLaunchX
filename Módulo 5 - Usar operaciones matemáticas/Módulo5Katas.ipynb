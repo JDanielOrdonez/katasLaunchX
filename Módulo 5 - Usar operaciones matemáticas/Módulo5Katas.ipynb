{
 "cells": [
  {
   "cell_type": "markdown",
   "metadata": {},
   "source": [
    "# Ejercicio1 - Utilizar operadores aritméticos"
   ]
  },
  {
   "cell_type": "code",
   "execution_count": 18,
   "metadata": {},
   "outputs": [
    {
     "name": "stdout",
     "output_type": "stream",
     "text": [
      "628949330\n",
      "390577534\n"
     ]
    }
   ],
   "source": [
    "planetaUno = 149597870\n",
    "planetaDos = 778547200\n",
    "\n",
    "distancia_km = abs(dTierra - dJupiter)\n",
    "distancia_mi = round(abs(distancia_km * 0.621))\n",
    "\n",
    "print(distancia_km)\n",
    "print(distancia_mi)\n",
    "\n"
   ]
  },
  {
   "cell_type": "markdown",
   "metadata": {},
   "source": [
    "# Ejercicio 2: convierte cadenas en números y usa valores absolutos"
   ]
  },
  {
   "cell_type": "code",
   "execution_count": 22,
   "metadata": {},
   "outputs": [
    {
     "name": "stdout",
     "output_type": "stream",
     "text": [
      "La diferencia de distancia con respecto al sol del planeta Tierra y del planeta Jupiter es de 628949330 km\n",
      "y en millas de 390577534 millas\n"
     ]
    }
   ],
   "source": [
    "#Datos planeta 1\n",
    "nombrePlanetaUno = input(\"Ingresa el nombre del planeta\")\n",
    "dPlanetaUno = int(input(\"Ingrese la distancia de ese planeta hacia el sol\"))\n",
    "\n",
    "#Datos planeta 2\n",
    "nombrePlanetaDos = input(\"Ingresa el nombre del segundo planeta\")\n",
    "dPlanetaDos = int(input(\"Ingrese la distancia de ese planeta hacia el sol\"))\n",
    "\n",
    "#\n",
    "Distancia_km = abs(dPlanetaUno - dPlanetaDos) \n",
    "Distancia_mi = round(abs(distancia_km * 0.621))\n",
    "\n",
    "print(\"\"\"La diferencia de distancia con respecto al sol del planeta {0} y del planeta {1} es de {2} km\n",
    "y en millas de {3} millas\"\"\".format(nombrePlanetaUno, nombrePlanetaDos, Distancia_km, Distancia_mi))"
   ]
  }
 ],
 "metadata": {
  "interpreter": {
   "hash": "ac59ebe37160ed0dfa835113d9b8498d9f09ceb179beaac4002f036b9467c963"
  },
  "kernelspec": {
   "display_name": "Python 3.9.0 64-bit",
   "name": "python3"
  },
  "language_info": {
   "codemirror_mode": {
    "name": "ipython",
    "version": 3
   },
   "file_extension": ".py",
   "mimetype": "text/x-python",
   "name": "python",
   "nbconvert_exporter": "python",
   "pygments_lexer": "ipython3",
   "version": "3.9.0"
  },
  "orig_nbformat": 4
 },
 "nbformat": 4,
 "nbformat_minor": 2
}
