{
 "cells": [
  {
   "cell_type": "markdown",
   "metadata": {},
   "source": [
    "# Ejercicio 1: transformar cadenas\n"
   ]
  },
  {
   "cell_type": "code",
   "execution_count": 24,
   "metadata": {},
   "outputs": [
    {
     "name": "stdout",
     "output_type": "stream",
     "text": [
      "['Interesting facts about the Moon', \" The Moon is Earth's only satellite\", ' There are several interesting facts about the Moon and how it affects life here on Earth', ' On average, the Moon moves 4cm away from the Earth every year', ' This yearly drift is not significant enough to cause immediate effects on Earth', ' The highest daylight temperature of the Moon is 127 C', '']\n"
     ]
    }
   ],
   "source": [
    "text = \"\"\"Interesting facts about the Moon. The Moon is Earth's only satellite. There are several interesting facts about the Moon and how it affects life here on Earth. On average, the Moon moves 4cm away from the Earth every year. This yearly drift is not significant enough to cause immediate effects on Earth. The highest daylight temperature of the Moon is 127 C.\"\"\"\n",
    "splitText = text.split('.')\n",
    "print(splitText)"
   ]
  },
  {
   "cell_type": "code",
   "execution_count": 31,
   "metadata": {},
   "outputs": [
    {
     "name": "stdout",
     "output_type": "stream",
     "text": [
      " There are several interesting facts about the Moon and how it affects life here on Earth\n",
      "\n",
      " This yearly drift is not significant enough to cause immediate effects on Earth\n",
      "\n",
      " This yearly drift is not significant enough to cause immediate effects on Earth\n",
      "\n",
      " The highest daylight temperature of the Moon is 127 C\n",
      "\n",
      "Interesting facts about the Moon The Moon is Earth's only satellite There are several interesting facts about the Moon and how it affects life here on Earth On average, the Moon moves 4cm away from the Earth every year This yearly drift is not significant enough to cause immediate effects on Earth The highest daylight temperature of the Moon is 127 Celcius\n"
     ]
    }
   ],
   "source": [
    "#Palabras clave: affects, temperature, effects, drift \n",
    "keyWords = \"affects, temperature, effects, drift \"\n",
    "keyWords = keyWords.split(\",\")\n",
    "splitTextTwo = \"\"\n",
    "\n",
    "for sentences in splitText:\n",
    "    splitTextTwo += sentences.replace('C', 'Celcius')\n",
    "    for word in keyWords:        \n",
    "        if(word in sentences):\n",
    "            print(sentences + \"\\n\")\n",
    "        \n",
    "print(splitTextTwo)\n"
   ]
  },
  {
   "cell_type": "markdown",
   "metadata": {},
   "source": [
    "# Ejercicio 2: Formateando Cadenas"
   ]
  },
  {
   "cell_type": "code",
   "execution_count": 23,
   "metadata": {},
   "outputs": [
    {
     "name": "stdout",
     "output_type": "stream",
     "text": [
      "Gravity On The Ganímedes And The Moon\n",
      "---------------------------------------\n",
      "Planet name: Moon\n",
      "Gravity on the 1.6199999999999999 m/s2\n"
     ]
    }
   ],
   "source": [
    "\"hola\".title()\n",
    "\n",
    "name = \"Moon\"\n",
    "gravity = 0.00162 # in km/s\n",
    "planet = \"Ganímedes\"\n",
    "\n",
    "title = \"\"\"Gravity on the {0} and the {1}\n",
    "---------------------------------------\\n\"\"\".format(planet, name).title()\n",
    "\n",
    "moonFacts = \"\"\"Planet name: {0}\n",
    "Gravity on the {1} m/s2\"\"\".format(name, gravity*1000)\n",
    "\n",
    "\n",
    "joinTitle_Facts = title + moonFacts\n",
    "print(joinTitle_Facts)"
   ]
  }
 ],
 "metadata": {
  "interpreter": {
   "hash": "ac59ebe37160ed0dfa835113d9b8498d9f09ceb179beaac4002f036b9467c963"
  },
  "kernelspec": {
   "display_name": "Python 3.9.0 64-bit",
   "name": "python3"
  },
  "language_info": {
   "codemirror_mode": {
    "name": "ipython",
    "version": 3
   },
   "file_extension": ".py",
   "mimetype": "text/x-python",
   "name": "python",
   "nbconvert_exporter": "python",
   "pygments_lexer": "ipython3",
   "version": "3.9.0"
  },
  "orig_nbformat": 4
 },
 "nbformat": 4,
 "nbformat_minor": 2
}
