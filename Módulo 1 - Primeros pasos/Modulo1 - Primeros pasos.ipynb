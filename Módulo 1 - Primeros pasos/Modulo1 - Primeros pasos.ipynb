{
 "cells": [
  {
   "cell_type": "markdown",
   "metadata": {},
   "source": [
    "# Variables"
   ]
  },
  {
   "cell_type": "code",
   "execution_count": 1,
   "metadata": {},
   "outputs": [
    {
     "name": "stdout",
     "output_type": "stream",
     "text": [
      "6\n"
     ]
    }
   ],
   "source": [
    "sum = 1 + 2             # 3\n",
    "product = sum * 2\n",
    "print(product)          #6"
   ]
  },
  {
   "cell_type": "markdown",
   "metadata": {},
   "source": [
    "# Tipos de datos"
   ]
  },
  {
   "cell_type": "code",
   "execution_count": null,
   "metadata": {},
   "outputs": [],
   "source": [
    "planetas_en_el_sistema_solar = 8 # int, plutón era considerado un planeta pero ya es muy pequeño\n",
    "distancia_a_alfa_centauri = 4.367 # float, años luz\n",
    "puede_despegar = True #Boolean\n",
    "transbordador_que_aterrizo_en_la_luna = \"Apollo 11\" #string"
   ]
  },
  {
   "cell_type": "markdown",
   "metadata": {},
   "source": [
    "# Función tipy()"
   ]
  },
  {
   "cell_type": "code",
   "execution_count": 3,
   "metadata": {},
   "outputs": [
    {
     "name": "stdout",
     "output_type": "stream",
     "text": [
      "<class 'float'>\n"
     ]
    }
   ],
   "source": [
    "distancia_a_alfa_centauri = 4.367\n",
    "print(type(distancia_a_alfa_centauri))"
   ]
  },
  {
   "cell_type": "markdown",
   "metadata": {},
   "source": [
    "# Operadores aritméticos"
   ]
  },
  {
   "cell_type": "code",
   "execution_count": null,
   "metadata": {},
   "outputs": [],
   "source": [
    "# Operadores aritméticos\n",
    "\n",
    "Tipo \tDescripción \t\n",
    ". +   \tOperador de adición \n",
    ". -   \tOperador de resta \n",
    ". /   \tOperador de división\n",
    ". *   \tOperador de multiplicación \t"
   ]
  },
  {
   "cell_type": "markdown",
   "metadata": {},
   "source": [
    "# Operadores de asignación"
   ]
  },
  {
   "cell_type": "code",
   "execution_count": null,
   "metadata": {},
   "outputs": [],
   "source": [
    "Operador \tEjemplo\n",
    "= \t        x = 2\n",
    "            x ahora contiene 2.\n",
    "            \n",
    "+= \t        x += 2\n",
    "            x incrementado en 2. Si antes contenía 2, ahora tiene un valor de 4.\n",
    "            \n",
    "-= \t        x -= 2\n",
    "            x decrementado por 2. Si antes contenía 2, ahora tiene un valor de 0.\n",
    "            \n",
    "/= \t        x /= 2\n",
    "            x dividido por 2. Si antes contenía 2, ahora tiene un valor de 1.\n",
    "            \n",
    "*= \t        x *= 2\n",
    "            x multiplicado por 2. Si antes contenía 2, ahora tiene un valor de 4"
   ]
  },
  {
   "cell_type": "markdown",
   "metadata": {},
   "source": [
    "# Fechas"
   ]
  },
  {
   "cell_type": "code",
   "execution_count": 13,
   "metadata": {},
   "outputs": [
    {
     "name": "stdout",
     "output_type": "stream",
     "text": [
      "2022-02-06\n",
      "La fecha de hoy es: 2022-02-06\n"
     ]
    }
   ],
   "source": [
    "from datetime import date\n",
    "\n",
    "print(date.today())\n",
    "\n",
    "\n",
    "#Conversión de tipo de dato\n",
    "print(\"La fecha de hoy es: \" + str(date.today()))"
   ]
  },
  {
   "cell_type": "markdown",
   "metadata": {},
   "source": [
    "# Entrada de datos"
   ]
  },
  {
   "cell_type": "code",
   "execution_count": 14,
   "metadata": {},
   "outputs": [
    {
     "name": "stdout",
     "output_type": "stream",
     "text": [
      "Bienvenido a la nave\n",
      "Saludos: Daniel\n"
     ]
    }
   ],
   "source": [
    "print(\"Bienvenido a la nave\")\n",
    "name = input(\"Introduzca su nombre \")\n",
    "print(\"Saludos: \" + name)"
   ]
  },
  {
   "cell_type": "code",
   "execution_count": 16,
   "metadata": {},
   "outputs": [
    {
     "name": "stdout",
     "output_type": "stream",
     "text": [
      "Calculadora\n",
      "6\n"
     ]
    }
   ],
   "source": [
    "print(\"Calculadora\")\n",
    "first_number = input(\"Primer número: \")\n",
    "second_number = input(\"Segundo número: \")\n",
    "print(int(first_number) + int(second_number))"
   ]
  }
 ],
 "metadata": {
  "interpreter": {
   "hash": "ac59ebe37160ed0dfa835113d9b8498d9f09ceb179beaac4002f036b9467c963"
  },
  "kernelspec": {
   "display_name": "Python 3.9.0 64-bit",
   "name": "python3"
  },
  "language_info": {
   "codemirror_mode": {
    "name": "ipython",
    "version": 3
   },
   "file_extension": ".py",
   "mimetype": "text/x-python",
   "name": "python",
   "nbconvert_exporter": "python",
   "pygments_lexer": "ipython3",
   "version": "3.9.0"
  },
  "orig_nbformat": 4
 },
 "nbformat": 4,
 "nbformat_minor": 2
}
